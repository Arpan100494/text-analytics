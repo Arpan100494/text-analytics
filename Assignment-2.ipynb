{
 "cells": [
  {
   "cell_type": "code",
   "execution_count": 1,
   "metadata": {},
   "outputs": [],
   "source": [
    "# required library\n",
    "import pandas as pd\n",
    "import numpy as np\n",
    "import seaborn as sns\n",
    "import re\n",
    "import matplotlib.pyplot as plt\n",
    "%matplotlib inline"
   ]
  },
  {
   "cell_type": "code",
   "execution_count": 2,
   "metadata": {},
   "outputs": [],
   "source": [
    "# library to ignore all warnings\n",
    "import warnings\n",
    "warnings.filterwarnings(\"ignore\")"
   ]
  },
  {
   "cell_type": "markdown",
   "metadata": {},
   "source": [
    "# Scrape tweets for the hashtag #datascience"
   ]
  },
  {
   "cell_type": "markdown",
   "metadata": {},
   "source": [
    "# PROBLEM STATEMENT - 1"
   ]
  },
  {
   "cell_type": "code",
   "execution_count": 3,
   "metadata": {},
   "outputs": [],
   "source": [
    "import tweepy\n",
    "\n",
    "consumer_key = \"0p0FonTDUYemNfPg8epMh6kFO\"\n",
    "consumer_secret = \"wPe8tcxhP63cseioDcWeOkj77SdWrNMaXJPQUz2QzKO8LscL25\"\n",
    "access_token = \"991382693945360386-doRMFJghJAPN9Krhqc5tSdu6fU9fuby\"\n",
    "access_token_secret = \"xYfzST5UEPDz0WGBUTnEdRCczVk4qSGTt7uKcO2at5iJU\""
   ]
  },
  {
   "cell_type": "code",
   "execution_count": 4,
   "metadata": {},
   "outputs": [],
   "source": [
    "auth = tweepy.OAuthHandler(consumer_key,consumer_secret)\n",
    "auth.set_access_token(access_token,access_token_secret)\n",
    "api = tweepy.API(auth)"
   ]
  },
  {
   "cell_type": "code",
   "execution_count": 5,
   "metadata": {},
   "outputs": [],
   "source": [
    "df_tweets = pd.DataFrame()\n",
    "for tw in tweepy.Cursor(api.search, \"#datascience\",lang=\"en\").items(501):\n",
    "    curr_tweet = {\"display_name\":tw.user.name,\"created_at\":tw.created_at,\"Text\":tw.text}\n",
    "    df_tweets = df_tweets.append(curr_tweet,ignore_index=True)"
   ]
  },
  {
   "cell_type": "code",
   "execution_count": 6,
   "metadata": {},
   "outputs": [
    {
     "data": {
      "text/html": [
       "<div>\n",
       "<style scoped>\n",
       "    .dataframe tbody tr th:only-of-type {\n",
       "        vertical-align: middle;\n",
       "    }\n",
       "\n",
       "    .dataframe tbody tr th {\n",
       "        vertical-align: top;\n",
       "    }\n",
       "\n",
       "    .dataframe thead th {\n",
       "        text-align: right;\n",
       "    }\n",
       "</style>\n",
       "<table border=\"1\" class=\"dataframe\">\n",
       "  <thead>\n",
       "    <tr style=\"text-align: right;\">\n",
       "      <th></th>\n",
       "      <th>Text</th>\n",
       "      <th>created_at</th>\n",
       "      <th>display_name</th>\n",
       "    </tr>\n",
       "  </thead>\n",
       "  <tbody>\n",
       "    <tr>\n",
       "      <th>0</th>\n",
       "      <td>RT @wil_bielert: RT @gp_pulipaka: TensorFlow 2...</td>\n",
       "      <td>2019-10-02 08:00:48</td>\n",
       "      <td>GentooBot</td>\n",
       "    </tr>\n",
       "    <tr>\n",
       "      <th>1</th>\n",
       "      <td>Hey! Check out this service... October 01, 201...</td>\n",
       "      <td>2019-10-02 08:00:45</td>\n",
       "      <td>Top Tech Hits</td>\n",
       "    </tr>\n",
       "    <tr>\n",
       "      <th>2</th>\n",
       "      <td>With industry adopting more state-of-the-art m...</td>\n",
       "      <td>2019-10-02 08:00:35</td>\n",
       "      <td>Analytics India Mag</td>\n",
       "    </tr>\n",
       "    <tr>\n",
       "      <th>3</th>\n",
       "      <td>Understanding Neural Networks. From neuron to ...</td>\n",
       "      <td>2019-10-02 08:00:19</td>\n",
       "      <td>Deep_In_Depth</td>\n",
       "    </tr>\n",
       "    <tr>\n",
       "      <th>4</th>\n",
       "      <td>RT @BigData_Fr: Sleeping beauty...\\n#Brisbane ...</td>\n",
       "      <td>2019-10-02 08:00:08</td>\n",
       "      <td>RobotConsumer</td>\n",
       "    </tr>\n",
       "  </tbody>\n",
       "</table>\n",
       "</div>"
      ],
      "text/plain": [
       "                                                Text          created_at  \\\n",
       "0  RT @wil_bielert: RT @gp_pulipaka: TensorFlow 2... 2019-10-02 08:00:48   \n",
       "1  Hey! Check out this service... October 01, 201... 2019-10-02 08:00:45   \n",
       "2  With industry adopting more state-of-the-art m... 2019-10-02 08:00:35   \n",
       "3  Understanding Neural Networks. From neuron to ... 2019-10-02 08:00:19   \n",
       "4  RT @BigData_Fr: Sleeping beauty...\\n#Brisbane ... 2019-10-02 08:00:08   \n",
       "\n",
       "          display_name  \n",
       "0            GentooBot  \n",
       "1        Top Tech Hits  \n",
       "2  Analytics India Mag  \n",
       "3        Deep_In_Depth  \n",
       "4        RobotConsumer  "
      ]
     },
     "execution_count": 6,
     "metadata": {},
     "output_type": "execute_result"
    }
   ],
   "source": [
    "df_tweets.head()"
   ]
  },
  {
   "cell_type": "markdown",
   "metadata": {},
   "source": [
    "###  1. Hour wise or minute wise (depending upon the scrapped tweets) number of tweets-draw a line chart. "
   ]
  },
  {
   "cell_type": "code",
   "execution_count": 7,
   "metadata": {},
   "outputs": [
    {
     "data": {
      "text/html": [
       "<div>\n",
       "<style scoped>\n",
       "    .dataframe tbody tr th:only-of-type {\n",
       "        vertical-align: middle;\n",
       "    }\n",
       "\n",
       "    .dataframe tbody tr th {\n",
       "        vertical-align: top;\n",
       "    }\n",
       "\n",
       "    .dataframe thead th {\n",
       "        text-align: right;\n",
       "    }\n",
       "</style>\n",
       "<table border=\"1\" class=\"dataframe\">\n",
       "  <thead>\n",
       "    <tr style=\"text-align: right;\">\n",
       "      <th></th>\n",
       "      <th>minutes</th>\n",
       "      <th>tweet_count</th>\n",
       "    </tr>\n",
       "  </thead>\n",
       "  <tbody>\n",
       "    <tr>\n",
       "      <th>0</th>\n",
       "      <td>0</td>\n",
       "      <td>10</td>\n",
       "    </tr>\n",
       "    <tr>\n",
       "      <th>1</th>\n",
       "      <td>1</td>\n",
       "      <td>2</td>\n",
       "    </tr>\n",
       "    <tr>\n",
       "      <th>2</th>\n",
       "      <td>2</td>\n",
       "      <td>1</td>\n",
       "    </tr>\n",
       "    <tr>\n",
       "      <th>3</th>\n",
       "      <td>3</td>\n",
       "      <td>11</td>\n",
       "    </tr>\n",
       "    <tr>\n",
       "      <th>4</th>\n",
       "      <td>4</td>\n",
       "      <td>3</td>\n",
       "    </tr>\n",
       "  </tbody>\n",
       "</table>\n",
       "</div>"
      ],
      "text/plain": [
       "   minutes  tweet_count\n",
       "0        0           10\n",
       "1        1            2\n",
       "2        2            1\n",
       "3        3           11\n",
       "4        4            3"
      ]
     },
     "execution_count": 7,
     "metadata": {},
     "output_type": "execute_result"
    }
   ],
   "source": [
    "#creating a column called minutes from created at column\n",
    "df_tweets[\"minutes\"] = df_tweets[\"created_at\"].dt.minute\n",
    "\n",
    "tweet_min = df_tweets.groupby(\"minutes\")[\"Text\"].size().reset_index()\n",
    "tweet_min = tweet_min.rename(columns={\"Text\":\"tweet_count\"})\n",
    "tweet_min.head()"
   ]
  },
  {
   "cell_type": "code",
   "execution_count": 8,
   "metadata": {},
   "outputs": [
    {
     "data": {
      "image/png": "[encoded data removed]",
      "text/plain": [
       "<Figure size 1080x360 with 1 Axes>"
      ]
     },
     "metadata": {
      "needs_background": "light"
     },
     "output_type": "display_data"
    }
   ],
   "source": [
    "plt.rcParams[\"figure.figsize\"]=15,5\n",
    "plt.plot(tweet_min[\"tweet_count\"])\n",
    "plt.title(\"Minute-wise Tweet Count\",color=\"g\",fontsize=20)\n",
    "plt.show()"
   ]
  },
  {
   "cell_type": "markdown",
   "metadata": {},
   "source": [
    "## 2. Top ten users with more number of tweets??"
   ]
  },
  {
   "cell_type": "code",
   "execution_count": 9,
   "metadata": {},
   "outputs": [
    {
     "data": {
      "text/html": [
       "<div>\n",
       "<style scoped>\n",
       "    .dataframe tbody tr th:only-of-type {\n",
       "        vertical-align: middle;\n",
       "    }\n",
       "\n",
       "    .dataframe tbody tr th {\n",
       "        vertical-align: top;\n",
       "    }\n",
       "\n",
       "    .dataframe thead th {\n",
       "        text-align: right;\n",
       "    }\n",
       "</style>\n",
       "<table border=\"1\" class=\"dataframe\">\n",
       "  <thead>\n",
       "    <tr style=\"text-align: right;\">\n",
       "      <th></th>\n",
       "      <th>user_name</th>\n",
       "      <th>tweet_count</th>\n",
       "    </tr>\n",
       "  </thead>\n",
       "  <tbody>\n",
       "    <tr>\n",
       "      <th>12</th>\n",
       "      <td>Artificial Intelligence</td>\n",
       "      <td>14</td>\n",
       "    </tr>\n",
       "    <tr>\n",
       "      <th>25</th>\n",
       "      <td>Data Scientists</td>\n",
       "      <td>11</td>\n",
       "    </tr>\n",
       "    <tr>\n",
       "      <th>9</th>\n",
       "      <td>Analytics France</td>\n",
       "      <td>10</td>\n",
       "    </tr>\n",
       "    <tr>\n",
       "      <th>14</th>\n",
       "      <td>Big Data Analytics</td>\n",
       "      <td>10</td>\n",
       "    </tr>\n",
       "    <tr>\n",
       "      <th>16</th>\n",
       "      <td>Calvin and Hobbes</td>\n",
       "      <td>8</td>\n",
       "    </tr>\n",
       "    <tr>\n",
       "      <th>21</th>\n",
       "      <td>Curious Luke</td>\n",
       "      <td>8</td>\n",
       "    </tr>\n",
       "    <tr>\n",
       "      <th>111</th>\n",
       "      <td>Wilhelm Bielert, PhD</td>\n",
       "      <td>6</td>\n",
       "    </tr>\n",
       "    <tr>\n",
       "      <th>119</th>\n",
       "      <td>jayeshthakur</td>\n",
       "      <td>6</td>\n",
       "    </tr>\n",
       "    <tr>\n",
       "      <th>129</th>\n",
       "      <td>🇿🇦 Wynand Booysen 💻 改善</td>\n",
       "      <td>5</td>\n",
       "    </tr>\n",
       "    <tr>\n",
       "      <th>28</th>\n",
       "      <td>David Sobo</td>\n",
       "      <td>5</td>\n",
       "    </tr>\n",
       "  </tbody>\n",
       "</table>\n",
       "</div>"
      ],
      "text/plain": [
       "                   user_name  tweet_count\n",
       "12   Artificial Intelligence           14\n",
       "25           Data Scientists           11\n",
       "9           Analytics France           10\n",
       "14        Big Data Analytics           10\n",
       "16         Calvin and Hobbes            8\n",
       "21              Curious Luke            8\n",
       "111     Wilhelm Bielert, PhD            6\n",
       "119             jayeshthakur            6\n",
       "129   🇿🇦 Wynand Booysen 💻 改善            5\n",
       "28                David Sobo            5"
      ]
     },
     "execution_count": 9,
     "metadata": {},
     "output_type": "execute_result"
    }
   ],
   "source": [
    "top_twt = df_tweets.groupby(\"display_name\")[\"Text\"].size().reset_index()\n",
    "top_twt = top_twt.rename(columns={\"display_name\":\"user_name\",\"Text\":\"tweet_count\"})\n",
    "top_twt = top_twt.sort_values(by=\"tweet_count\",ascending=False).head(10)#Top 10 tweet based on user\n",
    "top_twt"
   ]
  },
  {
   "cell_type": "markdown",
   "metadata": {},
   "source": [
    "## 3. Create a new column in the data itself, to identity total number of hashtags in each tweet??"
   ]
  },
  {
   "cell_type": "code",
   "execution_count": 10,
   "metadata": {},
   "outputs": [
    {
     "data": {
      "text/plain": [
       "'RT @wil_bielert: RT @gp_pulipaka: TensorFlow 2.0 is Now Available! #BigData #Analytics #DataScience #AI #MachineLearning #IoT #IIoT #PyTorc…'"
      ]
     },
     "execution_count": 10,
     "metadata": {},
     "output_type": "execute_result"
    }
   ],
   "source": [
    "df_tweets.Text[0]"
   ]
  },
  {
   "cell_type": "code",
   "execution_count": 11,
   "metadata": {},
   "outputs": [
    {
     "data": {
      "text/html": [
       "<div>\n",
       "<style scoped>\n",
       "    .dataframe tbody tr th:only-of-type {\n",
       "        vertical-align: middle;\n",
       "    }\n",
       "\n",
       "    .dataframe tbody tr th {\n",
       "        vertical-align: top;\n",
       "    }\n",
       "\n",
       "    .dataframe thead th {\n",
       "        text-align: right;\n",
       "    }\n",
       "</style>\n",
       "<table border=\"1\" class=\"dataframe\">\n",
       "  <thead>\n",
       "    <tr style=\"text-align: right;\">\n",
       "      <th></th>\n",
       "      <th>Text</th>\n",
       "      <th>created_at</th>\n",
       "      <th>display_name</th>\n",
       "      <th>minutes</th>\n",
       "      <th>hashtags_count</th>\n",
       "    </tr>\n",
       "  </thead>\n",
       "  <tbody>\n",
       "    <tr>\n",
       "      <th>0</th>\n",
       "      <td>RT @wil_bielert: RT @gp_pulipaka: TensorFlow 2...</td>\n",
       "      <td>2019-10-02 08:00:48</td>\n",
       "      <td>GentooBot</td>\n",
       "      <td>0</td>\n",
       "      <td>8</td>\n",
       "    </tr>\n",
       "    <tr>\n",
       "      <th>1</th>\n",
       "      <td>Hey! Check out this service... October 01, 201...</td>\n",
       "      <td>2019-10-02 08:00:45</td>\n",
       "      <td>Top Tech Hits</td>\n",
       "      <td>0</td>\n",
       "      <td>1</td>\n",
       "    </tr>\n",
       "    <tr>\n",
       "      <th>2</th>\n",
       "      <td>With industry adopting more state-of-the-art m...</td>\n",
       "      <td>2019-10-02 08:00:35</td>\n",
       "      <td>Analytics India Mag</td>\n",
       "      <td>0</td>\n",
       "      <td>2</td>\n",
       "    </tr>\n",
       "    <tr>\n",
       "      <th>3</th>\n",
       "      <td>Understanding Neural Networks. From neuron to ...</td>\n",
       "      <td>2019-10-02 08:00:19</td>\n",
       "      <td>Deep_In_Depth</td>\n",
       "      <td>0</td>\n",
       "      <td>1</td>\n",
       "    </tr>\n",
       "    <tr>\n",
       "      <th>4</th>\n",
       "      <td>RT @BigData_Fr: Sleeping beauty...\\n#Brisbane ...</td>\n",
       "      <td>2019-10-02 08:00:08</td>\n",
       "      <td>RobotConsumer</td>\n",
       "      <td>0</td>\n",
       "      <td>10</td>\n",
       "    </tr>\n",
       "  </tbody>\n",
       "</table>\n",
       "</div>"
      ],
      "text/plain": [
       "                                                Text          created_at  \\\n",
       "0  RT @wil_bielert: RT @gp_pulipaka: TensorFlow 2... 2019-10-02 08:00:48   \n",
       "1  Hey! Check out this service... October 01, 201... 2019-10-02 08:00:45   \n",
       "2  With industry adopting more state-of-the-art m... 2019-10-02 08:00:35   \n",
       "3  Understanding Neural Networks. From neuron to ... 2019-10-02 08:00:19   \n",
       "4  RT @BigData_Fr: Sleeping beauty...\\n#Brisbane ... 2019-10-02 08:00:08   \n",
       "\n",
       "          display_name  minutes  hashtags_count  \n",
       "0            GentooBot        0               8  \n",
       "1        Top Tech Hits        0               1  \n",
       "2  Analytics India Mag        0               2  \n",
       "3        Deep_In_Depth        0               1  \n",
       "4        RobotConsumer        0              10  "
      ]
     },
     "execution_count": 11,
     "metadata": {},
     "output_type": "execute_result"
    }
   ],
   "source": [
    "# find tweet that start with #tag and take the length of it to find no of hash tag in each tweet\n",
    "hash_cnt_list = []\n",
    "for i in range(len(df_tweets)):\n",
    "    hash_cnt_list.append(len(re.findall(\"#\\w+\",df_tweets.Text[i])))\n",
    "\n",
    "#creating a new column hashtags count \n",
    "df_tweets[\"hashtags_count\"] = hash_cnt_list \n",
    "df_tweets.head()#printing first 5 rows of it"
   ]
  },
  {
   "cell_type": "markdown",
   "metadata": {},
   "source": [
    "## 4. Identity those users who have used #datascience as well as #machinelearning.Plot a bar chart of such top 10 users??"
   ]
  },
  {
   "cell_type": "code",
   "execution_count": 12,
   "metadata": {},
   "outputs": [
    {
     "data": {
      "text/html": [
       "<div>\n",
       "<style scoped>\n",
       "    .dataframe tbody tr th:only-of-type {\n",
       "        vertical-align: middle;\n",
       "    }\n",
       "\n",
       "    .dataframe tbody tr th {\n",
       "        vertical-align: top;\n",
       "    }\n",
       "\n",
       "    .dataframe thead th {\n",
       "        text-align: right;\n",
       "    }\n",
       "</style>\n",
       "<table border=\"1\" class=\"dataframe\">\n",
       "  <thead>\n",
       "    <tr style=\"text-align: right;\">\n",
       "      <th></th>\n",
       "      <th>Text</th>\n",
       "      <th>created_at</th>\n",
       "      <th>display_name</th>\n",
       "      <th>minutes</th>\n",
       "      <th>hashtags_count</th>\n",
       "    </tr>\n",
       "  </thead>\n",
       "  <tbody>\n",
       "    <tr>\n",
       "      <th>75</th>\n",
       "      <td>RT @BigData_Fr: How automation speeds up data ...</td>\n",
       "      <td>2019-10-02 07:36:33</td>\n",
       "      <td>Thomas Hilbig 2.0</td>\n",
       "      <td>36</td>\n",
       "      <td>7</td>\n",
       "    </tr>\n",
       "    <tr>\n",
       "      <th>93</th>\n",
       "      <td>This 10-page #datascience cheat-sheet covers #...</td>\n",
       "      <td>2019-10-02 07:31:53</td>\n",
       "      <td>CuriousSquid</td>\n",
       "      <td>31</td>\n",
       "      <td>2</td>\n",
       "    </tr>\n",
       "    <tr>\n",
       "      <th>119</th>\n",
       "      <td>RT @BigData_Fr: Word(s) of the day: Artificial...</td>\n",
       "      <td>2019-10-02 07:27:37</td>\n",
       "      <td>FINTECHNA</td>\n",
       "      <td>27</td>\n",
       "      <td>3</td>\n",
       "    </tr>\n",
       "    <tr>\n",
       "      <th>167</th>\n",
       "      <td>RT @dataiku: AI helps in basketball strategy. ...</td>\n",
       "      <td>2019-10-02 07:18:09</td>\n",
       "      <td>Curious Luke</td>\n",
       "      <td>18</td>\n",
       "      <td>6</td>\n",
       "    </tr>\n",
       "    <tr>\n",
       "      <th>168</th>\n",
       "      <td>RT @dataiku: AI helps in basketball strategy. ...</td>\n",
       "      <td>2019-10-02 07:17:51</td>\n",
       "      <td>Romain Vallee</td>\n",
       "      <td>17</td>\n",
       "      <td>6</td>\n",
       "    </tr>\n",
       "    <tr>\n",
       "      <th>180</th>\n",
       "      <td>RT @dataiku: AI helps in basketball strategy. ...</td>\n",
       "      <td>2019-10-02 07:16:27</td>\n",
       "      <td>Aaron Cuddeback</td>\n",
       "      <td>16</td>\n",
       "      <td>6</td>\n",
       "    </tr>\n",
       "    <tr>\n",
       "      <th>241</th>\n",
       "      <td>RT @dataiku: AI helps in basketball strategy. ...</td>\n",
       "      <td>2019-10-02 07:06:38</td>\n",
       "      <td>Siegfried Löffler</td>\n",
       "      <td>6</td>\n",
       "      <td>6</td>\n",
       "    </tr>\n",
       "    <tr>\n",
       "      <th>242</th>\n",
       "      <td>RT @dataiku: AI helps in basketball strategy. ...</td>\n",
       "      <td>2019-10-02 07:06:16</td>\n",
       "      <td>Alexey Moiseyev</td>\n",
       "      <td>6</td>\n",
       "      <td>6</td>\n",
       "    </tr>\n",
       "  </tbody>\n",
       "</table>\n",
       "</div>"
      ],
      "text/plain": [
       "                                                  Text          created_at  \\\n",
       "75   RT @BigData_Fr: How automation speeds up data ... 2019-10-02 07:36:33   \n",
       "93   This 10-page #datascience cheat-sheet covers #... 2019-10-02 07:31:53   \n",
       "119  RT @BigData_Fr: Word(s) of the day: Artificial... 2019-10-02 07:27:37   \n",
       "167  RT @dataiku: AI helps in basketball strategy. ... 2019-10-02 07:18:09   \n",
       "168  RT @dataiku: AI helps in basketball strategy. ... 2019-10-02 07:17:51   \n",
       "180  RT @dataiku: AI helps in basketball strategy. ... 2019-10-02 07:16:27   \n",
       "241  RT @dataiku: AI helps in basketball strategy. ... 2019-10-02 07:06:38   \n",
       "242  RT @dataiku: AI helps in basketball strategy. ... 2019-10-02 07:06:16   \n",
       "\n",
       "          display_name  minutes  hashtags_count  \n",
       "75   Thomas Hilbig 2.0       36               7  \n",
       "93        CuriousSquid       31               2  \n",
       "119          FINTECHNA       27               3  \n",
       "167       Curious Luke       18               6  \n",
       "168      Romain Vallee       17               6  \n",
       "180    Aaron Cuddeback       16               6  \n",
       "241  Siegfried Löffler        6               6  \n",
       "242    Alexey Moiseyev        6               6  "
      ]
     },
     "execution_count": 12,
     "metadata": {},
     "output_type": "execute_result"
    }
   ],
   "source": [
    "# filtering dataframe where for single user datascience and machine learning hashtags is present\n",
    "dsc_mlearn_user = df_tweets[df_tweets.Text.str.contains(\"#datascience\") & df_tweets.Text.str.contains(\"#machinelearning\")]\n",
    "dsc_mlearn_user"
   ]
  },
  {
   "cell_type": "code",
   "execution_count": 13,
   "metadata": {},
   "outputs": [
    {
     "data": {
      "text/plain": [
       "'RT @AIVids: 🇺🇸 #How to Fit Artificial Intelligence into Manufacturing, Part 2 - Machine Design https://t.co/l9kL1TJCoS ⬇️ #Robotics ⬇️ #Dat…'"
      ]
     },
     "execution_count": 13,
     "metadata": {},
     "output_type": "execute_result"
    }
   ],
   "source": [
    "# checking wheather both keywords present or not\n",
    "df_tweets[\"Text\"][183]"
   ]
  },
  {
   "cell_type": "code",
   "execution_count": 14,
   "metadata": {},
   "outputs": [
    {
     "data": {
      "text/html": [
       "<div>\n",
       "<style scoped>\n",
       "    .dataframe tbody tr th:only-of-type {\n",
       "        vertical-align: middle;\n",
       "    }\n",
       "\n",
       "    .dataframe tbody tr th {\n",
       "        vertical-align: top;\n",
       "    }\n",
       "\n",
       "    .dataframe thead th {\n",
       "        text-align: right;\n",
       "    }\n",
       "</style>\n",
       "<table border=\"1\" class=\"dataframe\">\n",
       "  <thead>\n",
       "    <tr style=\"text-align: right;\">\n",
       "      <th></th>\n",
       "      <th>display_name</th>\n",
       "      <th>Text</th>\n",
       "    </tr>\n",
       "  </thead>\n",
       "  <tbody>\n",
       "    <tr>\n",
       "      <th>0</th>\n",
       "      <td>Aaron Cuddeback</td>\n",
       "      <td>1</td>\n",
       "    </tr>\n",
       "    <tr>\n",
       "      <th>1</th>\n",
       "      <td>Alexey Moiseyev</td>\n",
       "      <td>1</td>\n",
       "    </tr>\n",
       "    <tr>\n",
       "      <th>2</th>\n",
       "      <td>Curious Luke</td>\n",
       "      <td>1</td>\n",
       "    </tr>\n",
       "    <tr>\n",
       "      <th>3</th>\n",
       "      <td>CuriousSquid</td>\n",
       "      <td>1</td>\n",
       "    </tr>\n",
       "    <tr>\n",
       "      <th>4</th>\n",
       "      <td>FINTECHNA</td>\n",
       "      <td>1</td>\n",
       "    </tr>\n",
       "    <tr>\n",
       "      <th>5</th>\n",
       "      <td>Romain Vallee</td>\n",
       "      <td>1</td>\n",
       "    </tr>\n",
       "    <tr>\n",
       "      <th>6</th>\n",
       "      <td>Siegfried Löffler</td>\n",
       "      <td>1</td>\n",
       "    </tr>\n",
       "    <tr>\n",
       "      <th>7</th>\n",
       "      <td>Thomas Hilbig 2.0</td>\n",
       "      <td>1</td>\n",
       "    </tr>\n",
       "  </tbody>\n",
       "</table>\n",
       "</div>"
      ],
      "text/plain": [
       "        display_name  Text\n",
       "0    Aaron Cuddeback     1\n",
       "1    Alexey Moiseyev     1\n",
       "2       Curious Luke     1\n",
       "3       CuriousSquid     1\n",
       "4          FINTECHNA     1\n",
       "5      Romain Vallee     1\n",
       "6  Siegfried Löffler     1\n",
       "7  Thomas Hilbig 2.0     1"
      ]
     },
     "execution_count": 14,
     "metadata": {},
     "output_type": "execute_result"
    }
   ],
   "source": [
    "dsc_mlearn_user = dsc_mlearn_user.groupby(\"display_name\")[\"Text\"].size().reset_index()#.plot(kind=\"bar\",color=[[\"blue\",\"green\"]])\n",
    "\n",
    "dsc_mlearn_user"
   ]
  },
  {
   "cell_type": "code",
   "execution_count": 15,
   "metadata": {},
   "outputs": [
    {
     "data": {
      "image/png": "[encoded data removed]",
      "text/plain": [
       "<Figure size 1080x360 with 1 Axes>"
      ]
     },
     "metadata": {
      "needs_background": "light"
     },
     "output_type": "display_data"
    }
   ],
   "source": [
    "sns.barplot(dsc_mlearn_user[\"display_name\"],dsc_mlearn_user[\"Text\"])\n",
    "plt.title(\"User Used #machinelearning and #datascience\",color=\"b\",fontsize=20)\n",
    "plt.show()"
   ]
  },
  {
   "cell_type": "markdown",
   "metadata": {},
   "source": [
    "# +++++++++++++++++++++++++++++++++++++++++++++++++++++++++++++"
   ]
  },
  {
   "cell_type": "markdown",
   "metadata": {},
   "source": [
    "# PROBLEM STATEMENT - 2"
   ]
  },
  {
   "cell_type": "code",
   "execution_count": 16,
   "metadata": {},
   "outputs": [
    {
     "data": {
      "text/html": [
       "<div>\n",
       "<style scoped>\n",
       "    .dataframe tbody tr th:only-of-type {\n",
       "        vertical-align: middle;\n",
       "    }\n",
       "\n",
       "    .dataframe tbody tr th {\n",
       "        vertical-align: top;\n",
       "    }\n",
       "\n",
       "    .dataframe thead th {\n",
       "        text-align: right;\n",
       "    }\n",
       "</style>\n",
       "<table border=\"1\" class=\"dataframe\">\n",
       "  <thead>\n",
       "    <tr style=\"text-align: right;\">\n",
       "      <th></th>\n",
       "      <th>id</th>\n",
       "      <th>retweets_count</th>\n",
       "      <th>favorite_count</th>\n",
       "      <th>created_at</th>\n",
       "      <th>text</th>\n",
       "      <th>lang</th>\n",
       "      <th>retweeted</th>\n",
       "      <th>followers_count</th>\n",
       "      <th>friends_count</th>\n",
       "      <th>hashtags_count</th>\n",
       "      <th>description</th>\n",
       "      <th>location</th>\n",
       "      <th>background_image_url</th>\n",
       "      <th>source</th>\n",
       "    </tr>\n",
       "  </thead>\n",
       "  <tbody>\n",
       "    <tr>\n",
       "      <th>0</th>\n",
       "      <td>8.260000e+17</td>\n",
       "      <td>1406</td>\n",
       "      <td>4903</td>\n",
       "      <td>31-01-2017 11:00</td>\n",
       "      <td>The President's address wonderfully encapsulat...</td>\n",
       "      <td>en</td>\n",
       "      <td>False</td>\n",
       "      <td>26809964</td>\n",
       "      <td>1641</td>\n",
       "      <td>1</td>\n",
       "      <td>Prime Minister of India</td>\n",
       "      <td>India</td>\n",
       "      <td>http://pbs.twimg.com/profile_background_images...</td>\n",
       "      <td>Twitter Web Client</td>\n",
       "    </tr>\n",
       "    <tr>\n",
       "      <th>1</th>\n",
       "      <td>8.260000e+17</td>\n",
       "      <td>907</td>\n",
       "      <td>2877</td>\n",
       "      <td>31-01-2017 10:59</td>\n",
       "      <td>Rashtrapati Ji's address to both Houses of Par...</td>\n",
       "      <td>en</td>\n",
       "      <td>False</td>\n",
       "      <td>26809964</td>\n",
       "      <td>1641</td>\n",
       "      <td>0</td>\n",
       "      <td>Prime Minister of India</td>\n",
       "      <td>India</td>\n",
       "      <td>http://pbs.twimg.com/profile_background_images...</td>\n",
       "      <td>Twitter Web Client</td>\n",
       "    </tr>\n",
       "    <tr>\n",
       "      <th>2</th>\n",
       "      <td>8.260000e+17</td>\n",
       "      <td>694</td>\n",
       "      <td>0</td>\n",
       "      <td>31-01-2017 10:52</td>\n",
       "      <td>RT @PMOIndia: Empowering the marginalised. htt...</td>\n",
       "      <td>en</td>\n",
       "      <td>False</td>\n",
       "      <td>26809964</td>\n",
       "      <td>1641</td>\n",
       "      <td>0</td>\n",
       "      <td>Prime Minister of India</td>\n",
       "      <td>India</td>\n",
       "      <td>http://pbs.twimg.com/profile_background_images...</td>\n",
       "      <td>Twitter Web Client</td>\n",
       "    </tr>\n",
       "  </tbody>\n",
       "</table>\n",
       "</div>"
      ],
      "text/plain": [
       "             id  retweets_count  favorite_count        created_at  \\\n",
       "0  8.260000e+17            1406            4903  31-01-2017 11:00   \n",
       "1  8.260000e+17             907            2877  31-01-2017 10:59   \n",
       "2  8.260000e+17             694               0  31-01-2017 10:52   \n",
       "\n",
       "                                                text lang  retweeted  \\\n",
       "0  The President's address wonderfully encapsulat...   en      False   \n",
       "1  Rashtrapati Ji's address to both Houses of Par...   en      False   \n",
       "2  RT @PMOIndia: Empowering the marginalised. htt...   en      False   \n",
       "\n",
       "   followers_count  friends_count  hashtags_count              description  \\\n",
       "0         26809964           1641               1  Prime Minister of India   \n",
       "1         26809964           1641               0  Prime Minister of India   \n",
       "2         26809964           1641               0  Prime Minister of India   \n",
       "\n",
       "  location                               background_image_url  \\\n",
       "0    India  http://pbs.twimg.com/profile_background_images...   \n",
       "1    India  http://pbs.twimg.com/profile_background_images...   \n",
       "2    India  http://pbs.twimg.com/profile_background_images...   \n",
       "\n",
       "               source  \n",
       "0  Twitter Web Client  \n",
       "1  Twitter Web Client  \n",
       "2  Twitter Web Client  "
      ]
     },
     "execution_count": 16,
     "metadata": {},
     "output_type": "execute_result"
    }
   ],
   "source": [
    "#reading tweet csv file\n",
    "modi = pd.read_csv(\"narendramodi_tweets.csv\")\n",
    "modi.head(3)"
   ]
  },
  {
   "cell_type": "code",
   "execution_count": 17,
   "metadata": {},
   "outputs": [
    {
     "data": {
      "text/plain": [
       "(2987, 14)"
      ]
     },
     "execution_count": 17,
     "metadata": {},
     "output_type": "execute_result"
    }
   ],
   "source": [
    "modi.shape"
   ]
  },
  {
   "cell_type": "code",
   "execution_count": 18,
   "metadata": {},
   "outputs": [
    {
     "data": {
      "text/plain": [
       "'RT @PMOIndia: Financial inclusion for poverty alleviation. https://t.co/5xT2ZyhHTE'"
      ]
     },
     "execution_count": 18,
     "metadata": {},
     "output_type": "execute_result"
    }
   ],
   "source": [
    "modi_text = modi[[\"text\"]]\n",
    "modi_text[\"text\"][5]"
   ]
  },
  {
   "cell_type": "code",
   "execution_count": 19,
   "metadata": {},
   "outputs": [
    {
     "data": {
      "text/plain": [
       "'RT @PMOIndia: Financial inclusion for poverty alleviation. '"
      ]
     },
     "execution_count": 19,
     "metadata": {},
     "output_type": "execute_result"
    }
   ],
   "source": [
    "#(https?:\\/\\/) matches http:// or https://\n",
    "import re\n",
    "text = re.sub(r'https?:\\/\\/.*', '', modi_text[\"text\"][5])\n",
    "text"
   ]
  },
  {
   "cell_type": "markdown",
   "metadata": {},
   "source": [
    "# Text Cleaning"
   ]
  },
  {
   "cell_type": "code",
   "execution_count": 20,
   "metadata": {},
   "outputs": [],
   "source": [
    "# iterating all rows and appending text in list  by removing http tag\n",
    "lst =[]\n",
    "for i in range(len(modi_text)):\n",
    "    #print(i)\n",
    "    lst.append(re.sub(r'https?:\\/\\/.*', '', modi_text[\"text\"][i]))"
   ]
  },
  {
   "cell_type": "code",
   "execution_count": 21,
   "metadata": {},
   "outputs": [
    {
     "data": {
      "text/html": [
       "<div>\n",
       "<style scoped>\n",
       "    .dataframe tbody tr th:only-of-type {\n",
       "        vertical-align: middle;\n",
       "    }\n",
       "\n",
       "    .dataframe tbody tr th {\n",
       "        vertical-align: top;\n",
       "    }\n",
       "\n",
       "    .dataframe thead th {\n",
       "        text-align: right;\n",
       "    }\n",
       "</style>\n",
       "<table border=\"1\" class=\"dataframe\">\n",
       "  <thead>\n",
       "    <tr style=\"text-align: right;\">\n",
       "      <th></th>\n",
       "      <th>text</th>\n",
       "      <th>clean_text</th>\n",
       "    </tr>\n",
       "  </thead>\n",
       "  <tbody>\n",
       "    <tr>\n",
       "      <th>0</th>\n",
       "      <td>The President's address wonderfully encapsulat...</td>\n",
       "      <td>The President's address wonderfully encapsulat...</td>\n",
       "    </tr>\n",
       "    <tr>\n",
       "      <th>1</th>\n",
       "      <td>Rashtrapati Ji's address to both Houses of Par...</td>\n",
       "      <td>Rashtrapati Ji's address to both Houses of Par...</td>\n",
       "    </tr>\n",
       "    <tr>\n",
       "      <th>2</th>\n",
       "      <td>RT @PMOIndia: Empowering the marginalised. htt...</td>\n",
       "      <td>RT @PMOIndia: Empowering the marginalised.</td>\n",
       "    </tr>\n",
       "    <tr>\n",
       "      <th>3</th>\n",
       "      <td>RT @PMOIndia: Commitment to welfare of farmers...</td>\n",
       "      <td>RT @PMOIndia: Commitment to welfare of farmers.</td>\n",
       "    </tr>\n",
       "    <tr>\n",
       "      <th>4</th>\n",
       "      <td>RT @PMOIndia: Improving the quality of life fo...</td>\n",
       "      <td>RT @PMOIndia: Improving the quality of life fo...</td>\n",
       "    </tr>\n",
       "  </tbody>\n",
       "</table>\n",
       "</div>"
      ],
      "text/plain": [
       "                                                text  \\\n",
       "0  The President's address wonderfully encapsulat...   \n",
       "1  Rashtrapati Ji's address to both Houses of Par...   \n",
       "2  RT @PMOIndia: Empowering the marginalised. htt...   \n",
       "3  RT @PMOIndia: Commitment to welfare of farmers...   \n",
       "4  RT @PMOIndia: Improving the quality of life fo...   \n",
       "\n",
       "                                          clean_text  \n",
       "0  The President's address wonderfully encapsulat...  \n",
       "1  Rashtrapati Ji's address to both Houses of Par...  \n",
       "2        RT @PMOIndia: Empowering the marginalised.   \n",
       "3   RT @PMOIndia: Commitment to welfare of farmers.   \n",
       "4  RT @PMOIndia: Improving the quality of life fo...  "
      ]
     },
     "execution_count": 21,
     "metadata": {},
     "output_type": "execute_result"
    }
   ],
   "source": [
    "#creating a new column where text will be without http tag\n",
    "modi_text[\"clean_text\"] = lst\n",
    "modi_text.head()"
   ]
  },
  {
   "cell_type": "code",
   "execution_count": 22,
   "metadata": {},
   "outputs": [
    {
     "data": {
      "text/html": [
       "<div>\n",
       "<style scoped>\n",
       "    .dataframe tbody tr th:only-of-type {\n",
       "        vertical-align: middle;\n",
       "    }\n",
       "\n",
       "    .dataframe tbody tr th {\n",
       "        vertical-align: top;\n",
       "    }\n",
       "\n",
       "    .dataframe thead th {\n",
       "        text-align: right;\n",
       "    }\n",
       "</style>\n",
       "<table border=\"1\" class=\"dataframe\">\n",
       "  <thead>\n",
       "    <tr style=\"text-align: right;\">\n",
       "      <th></th>\n",
       "      <th>text</th>\n",
       "      <th>clean_text</th>\n",
       "    </tr>\n",
       "  </thead>\n",
       "  <tbody>\n",
       "    <tr>\n",
       "      <th>0</th>\n",
       "      <td>The President's address wonderfully encapsulat...</td>\n",
       "      <td>The President's address wonderfully encapsulat...</td>\n",
       "    </tr>\n",
       "    <tr>\n",
       "      <th>1</th>\n",
       "      <td>Rashtrapati Ji's address to both Houses of Par...</td>\n",
       "      <td>Rashtrapati Ji's address to both Houses of Par...</td>\n",
       "    </tr>\n",
       "    <tr>\n",
       "      <th>2</th>\n",
       "      <td>RT @PMOIndia: Empowering the marginalised. htt...</td>\n",
       "      <td>Empowering the marginalised.</td>\n",
       "    </tr>\n",
       "    <tr>\n",
       "      <th>3</th>\n",
       "      <td>RT @PMOIndia: Commitment to welfare of farmers...</td>\n",
       "      <td>Commitment to welfare of farmers.</td>\n",
       "    </tr>\n",
       "    <tr>\n",
       "      <th>4</th>\n",
       "      <td>RT @PMOIndia: Improving the quality of life fo...</td>\n",
       "      <td>Improving the quality of life for the poor.</td>\n",
       "    </tr>\n",
       "  </tbody>\n",
       "</table>\n",
       "</div>"
      ],
      "text/plain": [
       "                                                text  \\\n",
       "0  The President's address wonderfully encapsulat...   \n",
       "1  Rashtrapati Ji's address to both Houses of Par...   \n",
       "2  RT @PMOIndia: Empowering the marginalised. htt...   \n",
       "3  RT @PMOIndia: Commitment to welfare of farmers...   \n",
       "4  RT @PMOIndia: Improving the quality of life fo...   \n",
       "\n",
       "                                          clean_text  \n",
       "0  The President's address wonderfully encapsulat...  \n",
       "1  Rashtrapati Ji's address to both Houses of Par...  \n",
       "2                      Empowering the marginalised.   \n",
       "3                 Commitment to welfare of farmers.   \n",
       "4       Improving the quality of life for the poor.   "
      ]
     },
     "execution_count": 22,
     "metadata": {},
     "output_type": "execute_result"
    }
   ],
   "source": [
    "# function to remove RT @PMOIndia: \n",
    "def fun(x):\n",
    "    if \":\" in x:\n",
    "        return x.split(\":\")[1]\n",
    "    else:\n",
    "        return x\n",
    "    \n",
    "modi_text[\"clean_text\"] = modi_text[\"clean_text\"].apply(fun)\n",
    "modi_text.head()"
   ]
  },
  {
   "cell_type": "markdown",
   "metadata": {},
   "source": [
    "# Get Sentiment-Score"
   ]
  },
  {
   "cell_type": "code",
   "execution_count": 23,
   "metadata": {},
   "outputs": [],
   "source": [
    "# takign the clean text column\n",
    "from nltk.sentiment.vader import SentimentIntensityAnalyzer\n",
    "#creating object called sentiment\n",
    "sentiment = SentimentIntensityAnalyzer()\n",
    "\n",
    "new_text = modi_text[[\"clean_text\"]]\n"
   ]
  },
  {
   "cell_type": "code",
   "execution_count": 24,
   "metadata": {},
   "outputs": [],
   "source": [
    "new_text[\"clean_text\"]=new_text[\"clean_text\"].str.replace(\"#\",\"\")"
   ]
  },
  {
   "cell_type": "code",
   "execution_count": 25,
   "metadata": {},
   "outputs": [
    {
     "data": {
      "text/plain": [
       "0.765"
      ]
     },
     "execution_count": 25,
     "metadata": {},
     "output_type": "execute_result"
    }
   ],
   "source": [
    "sentiment.polarity_scores(new_text[\"clean_text\"][0])[\"compound\"]"
   ]
  },
  {
   "cell_type": "code",
   "execution_count": 26,
   "metadata": {},
   "outputs": [
    {
     "data": {
      "text/plain": [
       "[0.765, 0.0, 0.0, 0.3818, -0.0772]"
      ]
     },
     "execution_count": 26,
     "metadata": {},
     "output_type": "execute_result"
    }
   ],
   "source": [
    "score_list = []\n",
    "for i in range(len(new_text)):\n",
    "    score = sentiment.polarity_scores(new_text[\"clean_text\"][i])[\"compound\"]\n",
    "    score_list.append(score)\n",
    "# lets have a look on first 5 score from the appended list    \n",
    "score_list[:5]        "
   ]
  },
  {
   "cell_type": "code",
   "execution_count": 27,
   "metadata": {},
   "outputs": [
    {
     "data": {
      "text/html": [
       "<div>\n",
       "<style scoped>\n",
       "    .dataframe tbody tr th:only-of-type {\n",
       "        vertical-align: middle;\n",
       "    }\n",
       "\n",
       "    .dataframe tbody tr th {\n",
       "        vertical-align: top;\n",
       "    }\n",
       "\n",
       "    .dataframe thead th {\n",
       "        text-align: right;\n",
       "    }\n",
       "</style>\n",
       "<table border=\"1\" class=\"dataframe\">\n",
       "  <thead>\n",
       "    <tr style=\"text-align: right;\">\n",
       "      <th></th>\n",
       "      <th>clean_text</th>\n",
       "      <th>sent_score</th>\n",
       "    </tr>\n",
       "  </thead>\n",
       "  <tbody>\n",
       "    <tr>\n",
       "      <th>0</th>\n",
       "      <td>The President's address wonderfully encapsulat...</td>\n",
       "      <td>0.7650</td>\n",
       "    </tr>\n",
       "    <tr>\n",
       "      <th>1</th>\n",
       "      <td>Rashtrapati Ji's address to both Houses of Par...</td>\n",
       "      <td>0.0000</td>\n",
       "    </tr>\n",
       "    <tr>\n",
       "      <th>2</th>\n",
       "      <td>Empowering the marginalised.</td>\n",
       "      <td>0.0000</td>\n",
       "    </tr>\n",
       "    <tr>\n",
       "      <th>3</th>\n",
       "      <td>Commitment to welfare of farmers.</td>\n",
       "      <td>0.3818</td>\n",
       "    </tr>\n",
       "    <tr>\n",
       "      <th>4</th>\n",
       "      <td>Improving the quality of life for the poor.</td>\n",
       "      <td>-0.0772</td>\n",
       "    </tr>\n",
       "  </tbody>\n",
       "</table>\n",
       "</div>"
      ],
      "text/plain": [
       "                                          clean_text  sent_score\n",
       "0  The President's address wonderfully encapsulat...      0.7650\n",
       "1  Rashtrapati Ji's address to both Houses of Par...      0.0000\n",
       "2                      Empowering the marginalised.       0.0000\n",
       "3                 Commitment to welfare of farmers.       0.3818\n",
       "4       Improving the quality of life for the poor.      -0.0772"
      ]
     },
     "execution_count": 27,
     "metadata": {},
     "output_type": "execute_result"
    }
   ],
   "source": [
    "#create new column for sentiment score\n",
    "new_text[\"sent_score\"] = score_list\n",
    "\n",
    "#print head of it\n",
    "new_text.head()"
   ]
  },
  {
   "cell_type": "markdown",
   "metadata": {},
   "source": [
    "- Positive (score > 0.05)\n",
    "- Negative (score < -0.05)\n",
    "- Neutral (-0.05 <= score <= 0.05)\n"
   ]
  },
  {
   "cell_type": "code",
   "execution_count": 28,
   "metadata": {},
   "outputs": [
    {
     "data": {
      "text/html": [
       "<div>\n",
       "<style scoped>\n",
       "    .dataframe tbody tr th:only-of-type {\n",
       "        vertical-align: middle;\n",
       "    }\n",
       "\n",
       "    .dataframe tbody tr th {\n",
       "        vertical-align: top;\n",
       "    }\n",
       "\n",
       "    .dataframe thead th {\n",
       "        text-align: right;\n",
       "    }\n",
       "</style>\n",
       "<table border=\"1\" class=\"dataframe\">\n",
       "  <thead>\n",
       "    <tr style=\"text-align: right;\">\n",
       "      <th></th>\n",
       "      <th>clean_text</th>\n",
       "      <th>sent_score</th>\n",
       "      <th>class</th>\n",
       "    </tr>\n",
       "  </thead>\n",
       "  <tbody>\n",
       "    <tr>\n",
       "      <th>0</th>\n",
       "      <td>The President's address wonderfully encapsulat...</td>\n",
       "      <td>0.7650</td>\n",
       "      <td>Positive</td>\n",
       "    </tr>\n",
       "    <tr>\n",
       "      <th>1</th>\n",
       "      <td>Rashtrapati Ji's address to both Houses of Par...</td>\n",
       "      <td>0.0000</td>\n",
       "      <td>Neutral</td>\n",
       "    </tr>\n",
       "    <tr>\n",
       "      <th>2</th>\n",
       "      <td>Empowering the marginalised.</td>\n",
       "      <td>0.0000</td>\n",
       "      <td>Neutral</td>\n",
       "    </tr>\n",
       "    <tr>\n",
       "      <th>3</th>\n",
       "      <td>Commitment to welfare of farmers.</td>\n",
       "      <td>0.3818</td>\n",
       "      <td>Positive</td>\n",
       "    </tr>\n",
       "  </tbody>\n",
       "</table>\n",
       "</div>"
      ],
      "text/plain": [
       "                                          clean_text  sent_score     class\n",
       "0  The President's address wonderfully encapsulat...      0.7650  Positive\n",
       "1  Rashtrapati Ji's address to both Houses of Par...      0.0000   Neutral\n",
       "2                      Empowering the marginalised.       0.0000   Neutral\n",
       "3                 Commitment to welfare of farmers.       0.3818  Positive"
      ]
     },
     "execution_count": 28,
     "metadata": {},
     "output_type": "execute_result"
    }
   ],
   "source": [
    "# defining a function which will classify sent_score into 3 classes\n",
    "def Score_Class(y):\n",
    "    if y > 0.05:\n",
    "        return \"Positive\"\n",
    "    elif y < -0.05:\n",
    "        return \"Negative\"\n",
    "    else:\n",
    "        return \"Neutral\"\n",
    "    \n",
    "# applying this function to score column\n",
    "new_text[\"class\"] = new_text[\"sent_score\"].apply(Score_Class)\n",
    "\n",
    "# print few rows \n",
    "new_text.head(4)"
   ]
  },
  {
   "cell_type": "markdown",
   "metadata": {},
   "source": [
    "# •\tCreate a multi-line chart for comparing no. of positive, negative and neutral reviews for each day."
   ]
  },
  {
   "cell_type": "code",
   "execution_count": 29,
   "metadata": {},
   "outputs": [],
   "source": [
    "multi_chart = modi[[\"created_at\"]]\n",
    "\n",
    "multi_chart[\"class\"] = new_text[\"class\"]\n",
    "multi_chart[\"clean_text\"] = new_text[\"clean_text\"]"
   ]
  },
  {
   "cell_type": "code",
   "execution_count": 30,
   "metadata": {},
   "outputs": [
    {
     "data": {
      "text/plain": [
       "created_at    datetime64[ns]\n",
       "class                 object\n",
       "clean_text            object\n",
       "dtype: object"
      ]
     },
     "execution_count": 30,
     "metadata": {},
     "output_type": "execute_result"
    }
   ],
   "source": [
    "#converting created_at column to datetime\n",
    "multi_chart[\"created_at\"]=pd.to_datetime(multi_chart[\"created_at\"])\n",
    "multi_chart.dtypes"
   ]
  },
  {
   "cell_type": "code",
   "execution_count": 31,
   "metadata": {},
   "outputs": [
    {
     "data": {
      "text/html": [
       "<div>\n",
       "<style scoped>\n",
       "    .dataframe tbody tr th:only-of-type {\n",
       "        vertical-align: middle;\n",
       "    }\n",
       "\n",
       "    .dataframe tbody tr th {\n",
       "        vertical-align: top;\n",
       "    }\n",
       "\n",
       "    .dataframe thead th {\n",
       "        text-align: right;\n",
       "    }\n",
       "</style>\n",
       "<table border=\"1\" class=\"dataframe\">\n",
       "  <thead>\n",
       "    <tr style=\"text-align: right;\">\n",
       "      <th></th>\n",
       "      <th>created_at</th>\n",
       "      <th>class</th>\n",
       "      <th>clean_text</th>\n",
       "      <th>day</th>\n",
       "    </tr>\n",
       "  </thead>\n",
       "  <tbody>\n",
       "    <tr>\n",
       "      <th>0</th>\n",
       "      <td>2017-01-31 11:00:00</td>\n",
       "      <td>Positive</td>\n",
       "      <td>The President's address wonderfully encapsulat...</td>\n",
       "      <td>Tuesday</td>\n",
       "    </tr>\n",
       "    <tr>\n",
       "      <th>1</th>\n",
       "      <td>2017-01-31 10:59:00</td>\n",
       "      <td>Neutral</td>\n",
       "      <td>Rashtrapati Ji's address to both Houses of Par...</td>\n",
       "      <td>Tuesday</td>\n",
       "    </tr>\n",
       "    <tr>\n",
       "      <th>2</th>\n",
       "      <td>2017-01-31 10:52:00</td>\n",
       "      <td>Neutral</td>\n",
       "      <td>Empowering the marginalised.</td>\n",
       "      <td>Tuesday</td>\n",
       "    </tr>\n",
       "    <tr>\n",
       "      <th>3</th>\n",
       "      <td>2017-01-31 10:52:00</td>\n",
       "      <td>Positive</td>\n",
       "      <td>Commitment to welfare of farmers.</td>\n",
       "      <td>Tuesday</td>\n",
       "    </tr>\n",
       "    <tr>\n",
       "      <th>4</th>\n",
       "      <td>2017-01-31 10:52:00</td>\n",
       "      <td>Negative</td>\n",
       "      <td>Improving the quality of life for the poor.</td>\n",
       "      <td>Tuesday</td>\n",
       "    </tr>\n",
       "  </tbody>\n",
       "</table>\n",
       "</div>"
      ],
      "text/plain": [
       "           created_at     class  \\\n",
       "0 2017-01-31 11:00:00  Positive   \n",
       "1 2017-01-31 10:59:00   Neutral   \n",
       "2 2017-01-31 10:52:00   Neutral   \n",
       "3 2017-01-31 10:52:00  Positive   \n",
       "4 2017-01-31 10:52:00  Negative   \n",
       "\n",
       "                                          clean_text      day  \n",
       "0  The President's address wonderfully encapsulat...  Tuesday  \n",
       "1  Rashtrapati Ji's address to both Houses of Par...  Tuesday  \n",
       "2                      Empowering the marginalised.   Tuesday  \n",
       "3                 Commitment to welfare of farmers.   Tuesday  \n",
       "4       Improving the quality of life for the poor.   Tuesday  "
      ]
     },
     "execution_count": 31,
     "metadata": {},
     "output_type": "execute_result"
    }
   ],
   "source": [
    "#extracting day from the date column\n",
    "multi_chart[\"day\"] = multi_chart[\"created_at\"].dt.day_name()\n",
    "multi_chart.head()"
   ]
  },
  {
   "cell_type": "code",
   "execution_count": 32,
   "metadata": {},
   "outputs": [
    {
     "data": {
      "text/html": [
       "<div>\n",
       "<style scoped>\n",
       "    .dataframe tbody tr th:only-of-type {\n",
       "        vertical-align: middle;\n",
       "    }\n",
       "\n",
       "    .dataframe tbody tr th {\n",
       "        vertical-align: top;\n",
       "    }\n",
       "\n",
       "    .dataframe thead th {\n",
       "        text-align: right;\n",
       "    }\n",
       "</style>\n",
       "<table border=\"1\" class=\"dataframe\">\n",
       "  <thead>\n",
       "    <tr style=\"text-align: right;\">\n",
       "      <th></th>\n",
       "      <th>day</th>\n",
       "      <th>class</th>\n",
       "      <th>clean_text</th>\n",
       "    </tr>\n",
       "  </thead>\n",
       "  <tbody>\n",
       "    <tr>\n",
       "      <th>0</th>\n",
       "      <td>Friday</td>\n",
       "      <td>Negative</td>\n",
       "      <td>31</td>\n",
       "    </tr>\n",
       "    <tr>\n",
       "      <th>1</th>\n",
       "      <td>Friday</td>\n",
       "      <td>Neutral</td>\n",
       "      <td>93</td>\n",
       "    </tr>\n",
       "    <tr>\n",
       "      <th>2</th>\n",
       "      <td>Friday</td>\n",
       "      <td>Positive</td>\n",
       "      <td>237</td>\n",
       "    </tr>\n",
       "    <tr>\n",
       "      <th>3</th>\n",
       "      <td>Monday</td>\n",
       "      <td>Negative</td>\n",
       "      <td>33</td>\n",
       "    </tr>\n",
       "    <tr>\n",
       "      <th>4</th>\n",
       "      <td>Monday</td>\n",
       "      <td>Neutral</td>\n",
       "      <td>109</td>\n",
       "    </tr>\n",
       "  </tbody>\n",
       "</table>\n",
       "</div>"
      ],
      "text/plain": [
       "      day     class  clean_text\n",
       "0  Friday  Negative          31\n",
       "1  Friday   Neutral          93\n",
       "2  Friday  Positive         237\n",
       "3  Monday  Negative          33\n",
       "4  Monday   Neutral         109"
      ]
     },
     "execution_count": 32,
     "metadata": {},
     "output_type": "execute_result"
    }
   ],
   "source": [
    "multi_chart_group = multi_chart.groupby([\"day\",\"class\"])[\"clean_text\"].size().reset_index()\n",
    "multi_chart_group.head()"
   ]
  },
  {
   "cell_type": "markdown",
   "metadata": {},
   "source": [
    "# multiline chart"
   ]
  },
  {
   "cell_type": "code",
   "execution_count": 33,
   "metadata": {},
   "outputs": [
    {
     "data": {
      "image/png": "[encoded data removed]",
      "text/plain": [
       "<Figure size 1080x360 with 1 Axes>"
      ]
     },
     "metadata": {
      "needs_background": "light"
     },
     "output_type": "display_data"
    }
   ],
   "source": [
    "#drawing multiline chart\n",
    "multi_chart.groupby([\"day\",\"class\"]).count()[\"clean_text\"].unstack().plot()\n",
    "plt.show()"
   ]
  },
  {
   "cell_type": "code",
   "execution_count": 34,
   "metadata": {},
   "outputs": [
    {
     "data": {
      "image/png": "[encoded data removed]",
      "text/plain": [
       "<Figure size 1080x360 with 1 Axes>"
      ]
     },
     "metadata": {
      "needs_background": "light"
     },
     "output_type": "display_data"
    }
   ],
   "source": [
    "#Lets do count of class\n",
    "new_text[\"class\"].value_counts().plot(kind=\"bar\",color=[\"g\",\"b\",\"cyan\"])\n",
    "plt.title(\"No. of Sentiment\",fontsize=20,color=\"r\")\n",
    "plt.show()"
   ]
  },
  {
   "cell_type": "markdown",
   "metadata": {},
   "source": [
    "# DTM matrix creation"
   ]
  },
  {
   "cell_type": "code",
   "execution_count": 35,
   "metadata": {},
   "outputs": [
    {
     "data": {
      "text/plain": [
       "((2389,), (598,), (2389,), (598,))"
      ]
     },
     "execution_count": 35,
     "metadata": {},
     "output_type": "execute_result"
    }
   ],
   "source": [
    "#lib to convert text to DTM matrix\n",
    "from sklearn.feature_extraction.text import CountVectorizer\n",
    "#splitting data into train and test\n",
    "from sklearn.model_selection import train_test_split\n",
    "x_train,x_val,y_train,y_val = train_test_split(new_text[\"clean_text\"],new_text[\"class\"],test_size=0.2)\n",
    "\n",
    "x_train.shape,x_val.shape,y_train.shape,y_val.shape"
   ]
  },
  {
   "cell_type": "code",
   "execution_count": 36,
   "metadata": {},
   "outputs": [
    {
     "data": {
      "text/plain": [
       "<2389x1196 sparse matrix of type '<class 'numpy.int64'>'\n",
       "\twith 28469 stored elements in Compressed Sparse Row format>"
      ]
     },
     "execution_count": 36,
     "metadata": {},
     "output_type": "execute_result"
    }
   ],
   "source": [
    "# fitting vectorized object to the data\n",
    "vectorizer = CountVectorizer(min_df = 5).fit(x_train)\n",
    "train_dtm = vectorizer.transform(x_train)\n",
    "val_dtm = vectorizer.transform(x_val)\n",
    "train_dtm"
   ]
  },
  {
   "cell_type": "markdown",
   "metadata": {},
   "source": [
    "# Naïve Bayes Model"
   ]
  },
  {
   "cell_type": "code",
   "execution_count": 37,
   "metadata": {},
   "outputs": [
    {
     "data": {
      "text/plain": [
       "0.7675585284280937"
      ]
     },
     "execution_count": 37,
     "metadata": {},
     "output_type": "execute_result"
    }
   ],
   "source": [
    "# building Naive Byes model and calculating the accuracy score\n",
    "from sklearn.naive_bayes import MultinomialNB\n",
    "model = MultinomialNB()\n",
    "model.fit(train_dtm,y_train)\n",
    "\n",
    "validate_pred = model.predict(val_dtm)\n",
    "\n",
    "from sklearn.metrics import accuracy_score\n",
    "accuracy_score(y_val,validate_pred)"
   ]
  },
  {
   "cell_type": "markdown",
   "metadata": {},
   "source": [
    "# •\tClassify the following tweet: \n",
    "- “India is a great country. It has one of the oldest civilizations. It has its own heritage culture. People from different caste, creed, religion, speaking different languages stay together. However, with all the political parties trying to get votes, India has seen various caste or religion-based riots and protests.”\n"
   ]
  },
  {
   "cell_type": "code",
   "execution_count": 38,
   "metadata": {},
   "outputs": [
    {
     "data": {
      "text/plain": [
       "789      Neutral\n",
       "1332    Positive\n",
       "944     Positive\n",
       "2772    Negative\n",
       "1491     Neutral\n",
       "Name: class, dtype: object"
      ]
     },
     "execution_count": 38,
     "metadata": {},
     "output_type": "execute_result"
    }
   ],
   "source": [
    "y_val[:5]"
   ]
  },
  {
   "cell_type": "code",
   "execution_count": 39,
   "metadata": {},
   "outputs": [
    {
     "data": {
      "text/plain": [
       "array(['Positive', 'Positive', 'Positive', 'Positive', 'Neutral'],\n",
       "      dtype='<U8')"
      ]
     },
     "execution_count": 39,
     "metadata": {},
     "output_type": "execute_result"
    }
   ],
   "source": [
    "validate_pred[:5]"
   ]
  },
  {
   "cell_type": "code",
   "execution_count": 40,
   "metadata": {},
   "outputs": [],
   "source": [
    "#Given text for prediction\n",
    "text = \"India is a great country. It has one of the oldest civilizations. It has its own heritage culture. People from \\\n",
    "different caste, creed, religion, speaking different languages stay together. However, with all the political parties \\\n",
    "trying to get votes, India has seen various caste or religion-based riots and protests.\""
   ]
  },
  {
   "cell_type": "code",
   "execution_count": 41,
   "metadata": {},
   "outputs": [],
   "source": [
    "testing = vectorizer.transform([text])\n",
    "prediction_result = model.predict(testing)"
   ]
  },
  {
   "cell_type": "code",
   "execution_count": 42,
   "metadata": {},
   "outputs": [
    {
     "data": {
      "text/plain": [
       "array(['Positive'], dtype='<U8')"
      ]
     },
     "execution_count": 42,
     "metadata": {},
     "output_type": "execute_result"
    }
   ],
   "source": [
    "#our model has predicted the sentiment of the tweet is positive\n",
    "prediction_result"
   ]
  },
  {
   "cell_type": "markdown",
   "metadata": {},
   "source": [
    "# +++++++++++++++++++++++++++++END++++++++++++++++++++++++++++"
   ]
  }
 ],
 "metadata": {
  "kernelspec": {
   "display_name": "Python 3",
   "language": "python",
   "name": "python3"
  },
  "language_info": {
   "codemirror_mode": {
    "name": "ipython",
    "version": 3
   },
   "file_extension": ".py",
   "mimetype": "text/x-python",
   "name": "python",
   "nbconvert_exporter": "python",
   "pygments_lexer": "ipython3",
   "version": "3.7.2"
  }
 },
 "nbformat": 4,
 "nbformat_minor": 2
}
